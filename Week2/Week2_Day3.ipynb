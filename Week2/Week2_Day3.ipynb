{
 "cells": [
  {
   "cell_type": "code",
   "execution_count": 3,
   "id": "1bb0310f",
   "metadata": {},
   "outputs": [
    {
     "name": "stdout",
     "output_type": "stream",
     "text": [
      "Enter value of a:6\n",
      "Enter value of b:7\n",
      "Enter value of c:5\n",
      "The solution are: (-0.5833333333333334-0.7021791477646966j) (-0.5833333333333334+0.7021791477646966j)\n"
     ]
    }
   ],
   "source": [
    "import cmath\n",
    "a=float(input('Enter value of a:'))\n",
    "b=float(input('Enter value of b:'))\n",
    "c=float(input('Enter value of c:'))\n",
    "\n",
    "# calculate the discriminant\n",
    "d = (b**2) - (4*a*c)\n",
    "# find two solutions\n",
    "sol1 = (-b-cmath.sqrt(d))/(2*a)\n",
    "sol2 = (-b+cmath.sqrt(d))/(2*a)\n",
    "print('The solution are:',sol1,sol2)"
   ]
  },
  {
   "cell_type": "code",
   "execution_count": 19,
   "id": "fb807e91",
   "metadata": {},
   "outputs": [
    {
     "name": "stdout",
     "output_type": "stream",
     "text": [
      "Enter value of a:1\n",
      "Enter value of b:8\n",
      "Enter value of c:6\n",
      "The solution are: -7.16, -0.84\n"
     ]
    }
   ],
   "source": [
    "import math\n",
    "a=float(input('Enter value of a:'))\n",
    "b=float(input('Enter value of b:'))\n",
    "c=float(input('Enter value of c:'))\n",
    "\n",
    "# calculate the discriminant\n",
    "d = (b**2) - (4*a*c)\n",
    "# find two solutions\n",
    "sol1 = (-b-math.sqrt(d))/(2*a)\n",
    "sol2 = (-b+math.sqrt(d))/(2*a)\n",
    "print('The solution are: %0.2f, %0.2f'%(sol1,sol2))"
   ]
  },
  {
   "cell_type": "code",
   "execution_count": 7,
   "id": "b8759f3c",
   "metadata": {},
   "outputs": [
    {
     "name": "stdout",
     "output_type": "stream",
     "text": [
      "Enter any number:-7\n",
      "It is outside if\n"
     ]
    }
   ],
   "source": [
    "n=float(input('Enter any number:'))\n",
    "if(n>=0):\n",
    "    print(n,'is a positive number')\n",
    "print('It is outside if')"
   ]
  },
  {
   "cell_type": "code",
   "execution_count": 9,
   "id": "6baea82a",
   "metadata": {},
   "outputs": [
    {
     "name": "stdout",
     "output_type": "stream",
     "text": [
      "Enter any number:-86\n",
      "-86.0 is a negative number\n",
      "It is outside if\n"
     ]
    }
   ],
   "source": [
    "n=float(input('Enter any number:'))\n",
    "if(n>=0):\n",
    "    print(n,'is a positive number')\n",
    "else:\n",
    "    print(n, 'is a negative number')\n",
    "print('It is outside if')"
   ]
  },
  {
   "cell_type": "code",
   "execution_count": 24,
   "id": "bda06004",
   "metadata": {},
   "outputs": [
    {
     "name": "stdout",
     "output_type": "stream",
     "text": [
      "Enter Day:sunday\n",
      "Today is Holiday\n"
     ]
    }
   ],
   "source": [
    "day = input('Enter Day:')\n",
    "if(day=='Saturday' or day=='Sunday' or day == 'saturday' or day=='sunday'):\n",
    "    print('Today is Holiday')\n",
    "else:\n",
    "    print('Today is working day')"
   ]
  },
  {
   "cell_type": "code",
   "execution_count": 38,
   "id": "1efa131a",
   "metadata": {},
   "outputs": [
    {
     "name": "stdout",
     "output_type": "stream",
     "text": [
      "Enter a character:t'\n",
      "Not Vowel\n"
     ]
    }
   ],
   "source": [
    "l=input('Enter a character:')\n",
    "if(l=='a' or l=='e' or l=='i' or l=='o' or l=='u'):\n",
    "    print('Vowel')\n",
    "else:\n",
    "    print('Not Vowel')"
   ]
  },
  {
   "cell_type": "code",
   "execution_count": null,
   "id": "3243534d",
   "metadata": {},
   "outputs": [],
   "source": []
  }
 ],
 "metadata": {
  "kernelspec": {
   "display_name": "Python 3 (ipykernel)",
   "language": "python",
   "name": "python3"
  },
  "language_info": {
   "codemirror_mode": {
    "name": "ipython",
    "version": 3
   },
   "file_extension": ".py",
   "mimetype": "text/x-python",
   "name": "python",
   "nbconvert_exporter": "python",
   "pygments_lexer": "ipython3",
   "version": "3.9.18"
  }
 },
 "nbformat": 4,
 "nbformat_minor": 5
}
