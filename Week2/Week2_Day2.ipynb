{
 "cells": [
  {
   "cell_type": "code",
   "execution_count": 3,
   "id": "4b9d8051",
   "metadata": {},
   "outputs": [
    {
     "name": "stdout",
     "output_type": "stream",
     "text": [
      "Enter the Value of a =3\n",
      "Enter the Value of b =2\n",
      "Enter the value of c =5\n",
      "The value of x1 = (-2.999999999999999+11.224972160321824j)\n",
      "The value of x2 = (-3.000000000000001-11.224972160321824j)\n"
     ]
    }
   ],
   "source": [
    "a=float(input('Enter the Value of a ='))\n",
    "b=float(input('Enter the Value of b ='))\n",
    "c=float(input('Enter the value of c ='))\n",
    "x1= (-b+(((b*b-4*a*c)**0.5)))/2*a\n",
    "x2= (-b-(((b*b-4*a*c)**0.5)))/2*a\n",
    "print('The value of x1 =',x1)\n",
    "print('The value of x2 =',x2)"
   ]
  },
  {
   "cell_type": "markdown",
   "id": "887731ac",
   "metadata": {},
   "source": [
    "a=float(input('Enter the Value of a ='))\n",
    "b=float(input('Enter the Value of b ='))\n",
    "c=float(input('Enter the value of c ='))\n",
    "d= (b*b-4*a*c)\n",
    "sq_root= d**0.5\n",
    "v=(2*a)\n",
    "x1= (-b+sq_root)/v\n",
    "x1= (-b-sq_root)/v\n",
    "print('The value of x1 =',x1)\n",
    "print('The value of x2 =',x2)"
   ]
  },
  {
   "cell_type": "code",
   "execution_count": 7,
   "id": "977c7b36",
   "metadata": {},
   "outputs": [
    {
     "name": "stdout",
     "output_type": "stream",
     "text": [
      "Enter the radius 5\n",
      "The circumference of circle is = 31.400000000000002\n",
      "The area of circle is = 78.5\n"
     ]
    }
   ],
   "source": [
    "r= float(input('Enter the radius '))\n",
    "circumference = 2*3.14*r\n",
    "area= 3.14*r**2\n",
    "print('The circumference of circle is =' ,circumference)\n",
    "print('The area of circle is =' ,area)"
   ]
  },
  {
   "cell_type": "code",
   "execution_count": 10,
   "id": "4fc32e17",
   "metadata": {},
   "outputs": [
    {
     "name": "stdout",
     "output_type": "stream",
     "text": [
      "I LIVE IN BAGH AJK\n"
     ]
    }
   ],
   "source": [
    "print('I LIVE IN BAGH AJK')"
   ]
  },
  {
   "cell_type": "code",
   "execution_count": 13,
   "id": "259d8273",
   "metadata": {},
   "outputs": [
    {
     "name": "stdout",
     "output_type": "stream",
     "text": [
      "enter value of a5\n",
      "enter value of b8\n",
      "the value of c is 32.0\n"
     ]
    }
   ],
   "source": [
    "A=float(input('enter value of a'))\n",
    "b=float(input('enter value of b'))\n",
    "c=a*b\n",
    "print('the value of c is',c,)"
   ]
  },
  {
   "cell_type": "code",
   "execution_count": null,
   "id": "f7454a11",
   "metadata": {},
   "outputs": [],
   "source": []
  }
 ],
 "metadata": {
  "kernelspec": {
   "display_name": "Python 3 (ipykernel)",
   "language": "python",
   "name": "python3"
  },
  "language_info": {
   "codemirror_mode": {
    "name": "ipython",
    "version": 3
   },
   "file_extension": ".py",
   "mimetype": "text/x-python",
   "name": "python",
   "nbconvert_exporter": "python",
   "pygments_lexer": "ipython3",
   "version": "3.9.18"
  }
 },
 "nbformat": 4,
 "nbformat_minor": 5
}
