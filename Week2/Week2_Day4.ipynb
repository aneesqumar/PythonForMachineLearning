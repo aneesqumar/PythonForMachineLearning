{
 "cells": [
  {
   "cell_type": "code",
   "execution_count": 2,
   "id": "b5e48e92",
   "metadata": {},
   "outputs": [
    {
     "name": "stdout",
     "output_type": "stream",
     "text": [
      "Enter any number10\n",
      "1\n",
      "3\n",
      "5\n",
      "7\n",
      "9\n",
      "This is end of prgram\n"
     ]
    }
   ],
   "source": [
    "n=int(input('Enter any number'))\n",
    "i=1\n",
    "while i<=n:\n",
    "    if i%2!=0:\n",
    "        print(i)\n",
    "    i=i+1\n",
    "print('This is end of prgram')"
   ]
  },
  {
   "cell_type": "code",
   "execution_count": null,
   "id": "3c897e7d",
   "metadata": {},
   "outputs": [],
   "source": []
  }
 ],
 "metadata": {
  "kernelspec": {
   "display_name": "Python 3 (ipykernel)",
   "language": "python",
   "name": "python3"
  },
  "language_info": {
   "codemirror_mode": {
    "name": "ipython",
    "version": 3
   },
   "file_extension": ".py",
   "mimetype": "text/x-python",
   "name": "python",
   "nbconvert_exporter": "python",
   "pygments_lexer": "ipython3",
   "version": "3.9.18"
  }
 },
 "nbformat": 4,
 "nbformat_minor": 5
}
