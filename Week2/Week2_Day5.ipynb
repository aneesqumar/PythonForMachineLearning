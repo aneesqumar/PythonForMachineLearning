{
 "cells": [
  {
   "cell_type": "code",
   "execution_count": 4,
   "id": "142e64f9",
   "metadata": {},
   "outputs": [
    {
     "name": "stdout",
     "output_type": "stream",
     "text": [
      "Enter any number-76\n",
      "Invalid Input\n"
     ]
    }
   ],
   "source": [
    "n=int(input('Enter any number'))\n",
    "fact=1\n",
    "if n>0:\n",
    "    while n>=1:\n",
    "        fact=fact*n\n",
    "        n=n-1\n",
    "    print('n!=',fact)\n",
    "else:\n",
    "    print('Invalid Input')"
   ]
  },
  {
   "cell_type": "code",
   "execution_count": 5,
   "id": "aa66060b",
   "metadata": {},
   "outputs": [
    {
     "name": "stdout",
     "output_type": "stream",
     "text": [
      "Enter any number6\n",
      "n!= 720\n"
     ]
    }
   ],
   "source": [
    "n=int(input('Enter any number'))\n",
    "fact=1\n",
    "i=1\n",
    "if n>0:\n",
    "    while i<=n:\n",
    "        fact=fact*i\n",
    "        i=i+1\n",
    "    print('n!=',fact)\n",
    "else:\n",
    "    print('Invalid Input')"
   ]
  },
  {
   "cell_type": "code",
   "execution_count": 2,
   "id": "e3982d73",
   "metadata": {},
   "outputs": [
    {
     "name": "stdout",
     "output_type": "stream",
     "text": [
      "Enter any number:61\n",
      "Prime Number\n"
     ]
    }
   ],
   "source": [
    "n=int(input('Enter any number:'))\n",
    "i=2\n",
    "while i<=n/2:\n",
    "    if n%i!=0:\n",
    "        i=i+1\n",
    "        if(i>n/2):\n",
    "            print('Prime Number') \n",
    "    else:\n",
    "        print('Not a prime')\n",
    "        break\n"
   ]
  },
  {
   "cell_type": "code",
   "execution_count": 7,
   "id": "3f970138",
   "metadata": {},
   "outputs": [
    {
     "name": "stdout",
     "output_type": "stream",
     "text": [
      "Enter any number:77\n",
      "77 is not a prime number\n"
     ]
    }
   ],
   "source": [
    "n=int(input('Enter any number:'))\n",
    "i=1\n",
    "c=0\n",
    "while i<=n:\n",
    "    if n%i==0:\n",
    "        c=c+1\n",
    "    i=i+1\n",
    "if c>2:\n",
    "    print(n,'is not a prime number')\n",
    "else:\n",
    "    print(n,'is prime number')"
   ]
  },
  {
   "cell_type": "code",
   "execution_count": null,
   "id": "541e7bf0",
   "metadata": {},
   "outputs": [],
   "source": []
  }
 ],
 "metadata": {
  "kernelspec": {
   "display_name": "Python 3 (ipykernel)",
   "language": "python",
   "name": "python3"
  },
  "language_info": {
   "codemirror_mode": {
    "name": "ipython",
    "version": 3
   },
   "file_extension": ".py",
   "mimetype": "text/x-python",
   "name": "python",
   "nbconvert_exporter": "python",
   "pygments_lexer": "ipython3",
   "version": "3.9.18"
  }
 },
 "nbformat": 4,
 "nbformat_minor": 5
}
