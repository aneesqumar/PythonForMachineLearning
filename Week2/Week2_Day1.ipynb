{
 "cells": [
  {
   "cell_type": "code",
   "execution_count": 2,
   "id": "2cb00e2f",
   "metadata": {},
   "outputs": [
    {
     "name": "stdout",
     "output_type": "stream",
     "text": [
      "Enter Any number:64\n",
      "The Square Root of 64 is = 8.0\n"
     ]
    }
   ],
   "source": [
    "num=input('Enter Any number:')\n",
    "num_f=float(num)\n",
    "sq_root=num_f**0.5\n",
    "print('The Square Root of',num,'is =',sq_root)"
   ]
  },
  {
   "cell_type": "code",
   "execution_count": 3,
   "id": "4ed4d3c0",
   "metadata": {},
   "outputs": [
    {
     "name": "stdout",
     "output_type": "stream",
     "text": [
      "Enter Any number:464\n",
      "The Square Root of 464.0 is = 21.540659228538015\n"
     ]
    }
   ],
   "source": [
    "num=float(input('Enter Any number:'))\n",
    "sq_root=num**0.5\n",
    "print('The Square Root of',num,'is =',sq_root)"
   ]
  },
  {
   "cell_type": "code",
   "execution_count": 4,
   "id": "788792ca",
   "metadata": {},
   "outputs": [
    {
     "name": "stdout",
     "output_type": "stream",
     "text": [
      "Enter Any number:7887\n",
      "The Square Root of 7887.0 is = 88.80878334939625\n"
     ]
    }
   ],
   "source": [
    "num=float(input('Enter Any number:'))\n",
    "sq_root=pow(num,0.5)\n",
    "print('The Square Root of',num,'is =',sq_root)"
   ]
  },
  {
   "cell_type": "code",
   "execution_count": null,
   "id": "4b736b07",
   "metadata": {},
   "outputs": [],
   "source": []
  }
 ],
 "metadata": {
  "kernelspec": {
   "display_name": "Python 3 (ipykernel)",
   "language": "python",
   "name": "python3"
  },
  "language_info": {
   "codemirror_mode": {
    "name": "ipython",
    "version": 3
   },
   "file_extension": ".py",
   "mimetype": "text/x-python",
   "name": "python",
   "nbconvert_exporter": "python",
   "pygments_lexer": "ipython3",
   "version": "3.9.18"
  }
 },
 "nbformat": 4,
 "nbformat_minor": 5
}
