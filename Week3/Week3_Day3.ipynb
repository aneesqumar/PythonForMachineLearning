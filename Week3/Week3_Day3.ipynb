{
 "cells": [
  {
   "cell_type": "code",
   "execution_count": 1,
   "id": "e4fa3a73",
   "metadata": {},
   "outputs": [
    {
     "name": "stdout",
     "output_type": "stream",
     "text": [
      "This is start of the porgram\n",
      "67 is odd number\n"
     ]
    }
   ],
   "source": [
    "def EvenOdd(num):\n",
    "    if num%2==0:\n",
    "        print(num, \"is even number\")\n",
    "    else:\n",
    "        print(num, \"is odd number\")\n",
    "print(\"This is start of the porgram\")\n",
    "EvenOdd(67)"
   ]
  },
  {
   "cell_type": "code",
   "execution_count": 2,
   "id": "c159409c",
   "metadata": {},
   "outputs": [
    {
     "name": "stdout",
     "output_type": "stream",
     "text": [
      "5456 is even number\n"
     ]
    }
   ],
   "source": [
    "EvenOdd(5456)"
   ]
  },
  {
   "cell_type": "code",
   "execution_count": 3,
   "id": "2ca2e6f4",
   "metadata": {
    "scrolled": true
   },
   "outputs": [
    {
     "name": "stdout",
     "output_type": "stream",
     "text": [
      "Enter any number564569\n",
      "564569 is odd number\n"
     ]
    }
   ],
   "source": [
    "n=int(input('Enter any number'))\n",
    "EvenOdd(n)"
   ]
  },
  {
   "cell_type": "code",
   "execution_count": 4,
   "id": "ceb02096",
   "metadata": {},
   "outputs": [],
   "source": [
    "import math"
   ]
  },
  {
   "cell_type": "code",
   "execution_count": 5,
   "id": "1abe3fa2",
   "metadata": {},
   "outputs": [],
   "source": [
    "def QuadraticFormula(a,b,c):\n",
    "    d=pow(b,2)-4*a*c\n",
    "    x1=(-b+math.sqrt(d))/(2*a)\n",
    "    x2=(-b-math.sqrt(d))/(2*a)\n",
    "    print(\"x1=\",x1,\"x2=\",x2)"
   ]
  },
  {
   "cell_type": "code",
   "execution_count": 6,
   "id": "59b308f5",
   "metadata": {},
   "outputs": [
    {
     "name": "stdout",
     "output_type": "stream",
     "text": [
      "Enter value of a:3\n",
      "Enter value of b:9\n",
      "Enter value of c:2\n",
      "x1= -0.24169426078820835 x2= -2.758305739211792\n"
     ]
    }
   ],
   "source": [
    "a=float(input('Enter value of a:'))\n",
    "b=float(input('Enter value of b:'))\n",
    "c=float(input('Enter value of c:'))\n",
    "QuadraticFormula(a,b,c)"
   ]
  },
  {
   "cell_type": "code",
   "execution_count": 8,
   "id": "58beb023",
   "metadata": {},
   "outputs": [
    {
     "name": "stdout",
     "output_type": "stream",
     "text": [
      "x1= -0.3819660112501051 x2= -2.618033988749895\n"
     ]
    }
   ],
   "source": [
    "QuadraticFormula(5,15,5)"
   ]
  },
  {
   "cell_type": "code",
   "execution_count": 9,
   "id": "33d6afe5",
   "metadata": {},
   "outputs": [],
   "source": [
    "def add(x,y):\n",
    "    print('x+y=',x+y)\n",
    "def sub(x,y):\n",
    "    print('x-y=',x-y)\n",
    "def prod(x,y):\n",
    "    print('x*y=',x*y)\n",
    "def div(x,y):\n",
    "    print('x/y=',x/y)\n",
    "    "
   ]
  },
  {
   "cell_type": "code",
   "execution_count": 11,
   "id": "704f3e02",
   "metadata": {},
   "outputs": [
    {
     "name": "stdout",
     "output_type": "stream",
     "text": [
      "Enter First No453\n",
      "Enter Second No6\n",
      "Enter Operaotr*\n",
      "x*y= 2718.0\n"
     ]
    }
   ],
   "source": [
    "num1=float(input('Enter First No'))\n",
    "num2=float(input('Enter Second No'))\n",
    "op=input('Enter Operaotr')\n",
    "if op=='+':\n",
    "    add(num1,num2)\n",
    "elif op=='-':\n",
    "    sub(num1,num2)\n",
    "elif op=='*':\n",
    "    prod(num1,num2)\n",
    "elif op=='/':\n",
    "    div(num1,num2)\n",
    "else:\n",
    "    print(\"Invalid Operator\")"
   ]
  },
  {
   "cell_type": "code",
   "execution_count": 12,
   "id": "0575a8c6",
   "metadata": {},
   "outputs": [
    {
     "name": "stdout",
     "output_type": "stream",
     "text": [
      "Enter First No34\n",
      "Enter Second No65\n",
      "Enter Operaotr+\n",
      "x+y= 99.0\n",
      "Do you want to continue? (y/n)y\n",
      "Enter First No378\n",
      "Enter Second No6\n",
      "Enter Operaotr*\n",
      "x*y= 2268.0\n",
      "Do you want to continue? (y/n)n\n"
     ]
    }
   ],
   "source": [
    "ch='y'\n",
    "while (ch=='y'):\n",
    "    num1=float(input('Enter First No'))\n",
    "    num2=float(input('Enter Second No'))\n",
    "    op=input('Enter Operaotr')\n",
    "    if op=='+':\n",
    "        add(num1,num2)\n",
    "    elif op=='-':\n",
    "        sub(num1,num2)\n",
    "    elif op=='*':\n",
    "        prod(num1,num2)\n",
    "    elif op=='/':\n",
    "        div(num1,num2)\n",
    "    else:\n",
    "        print(\"Invalid Operator\")\n",
    "    \n",
    "    ch=input('Do you want to continue? (y/n)')\n",
    "    "
   ]
  },
  {
   "cell_type": "code",
   "execution_count": null,
   "id": "da45f576",
   "metadata": {},
   "outputs": [],
   "source": []
  }
 ],
 "metadata": {
  "kernelspec": {
   "display_name": "Python 3 (ipykernel)",
   "language": "python",
   "name": "python3"
  },
  "language_info": {
   "codemirror_mode": {
    "name": "ipython",
    "version": 3
   },
   "file_extension": ".py",
   "mimetype": "text/x-python",
   "name": "python",
   "nbconvert_exporter": "python",
   "pygments_lexer": "ipython3",
   "version": "3.9.18"
  }
 },
 "nbformat": 4,
 "nbformat_minor": 5
}
