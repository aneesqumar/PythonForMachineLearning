{
 "cells": [
  {
   "cell_type": "code",
   "execution_count": 25,
   "id": "ff2a6368",
   "metadata": {},
   "outputs": [],
   "source": [
    "def add1(x,y):\n",
    "    print('value of x=',x)\n",
    "    print ('value of y=',y)\n",
    "    print(x+y)"
   ]
  },
  {
   "cell_type": "code",
   "execution_count": 14,
   "id": "3e2cf1c3",
   "metadata": {},
   "outputs": [
    {
     "name": "stdout",
     "output_type": "stream",
     "text": [
      "11\n"
     ]
    }
   ],
   "source": [
    "add(5,6)"
   ]
  },
  {
   "cell_type": "code",
   "execution_count": 19,
   "id": "dbac74a9",
   "metadata": {},
   "outputs": [],
   "source": [
    "def add(x,y=78):\n",
    "    print(x+y)"
   ]
  },
  {
   "cell_type": "code",
   "execution_count": 20,
   "id": "70bc18b3",
   "metadata": {},
   "outputs": [
    {
     "name": "stdout",
     "output_type": "stream",
     "text": [
      "85\n"
     ]
    }
   ],
   "source": [
    "add(7)"
   ]
  },
  {
   "cell_type": "code",
   "execution_count": 21,
   "id": "31401668",
   "metadata": {},
   "outputs": [
    {
     "name": "stdout",
     "output_type": "stream",
     "text": [
      "97\n"
     ]
    }
   ],
   "source": [
    "add(43,54)"
   ]
  },
  {
   "cell_type": "code",
   "execution_count": 22,
   "id": "b99fcebb",
   "metadata": {},
   "outputs": [],
   "source": [
    "def add(x=8,y=78):\n",
    "    print(x+y)"
   ]
  },
  {
   "cell_type": "code",
   "execution_count": 23,
   "id": "688bd06a",
   "metadata": {},
   "outputs": [
    {
     "name": "stdout",
     "output_type": "stream",
     "text": [
      "86\n"
     ]
    }
   ],
   "source": [
    "add()"
   ]
  },
  {
   "cell_type": "code",
   "execution_count": 24,
   "id": "78bcc55a",
   "metadata": {},
   "outputs": [
    {
     "name": "stdout",
     "output_type": "stream",
     "text": [
      "83\n"
     ]
    }
   ],
   "source": [
    "add(5)"
   ]
  },
  {
   "cell_type": "code",
   "execution_count": 28,
   "id": "4937c25e",
   "metadata": {},
   "outputs": [
    {
     "name": "stdout",
     "output_type": "stream",
     "text": [
      "72\n"
     ]
    }
   ],
   "source": [
    "add1(x=67,y=5)"
   ]
  },
  {
   "cell_type": "code",
   "execution_count": 29,
   "id": "1b7551a2",
   "metadata": {},
   "outputs": [],
   "source": [
    "def add1(x,y):\n",
    "    print('value of x=',x)\n",
    "    print ('value of y=',y)\n",
    "    print(x+y)"
   ]
  },
  {
   "cell_type": "code",
   "execution_count": 30,
   "id": "c6848e4a",
   "metadata": {},
   "outputs": [
    {
     "name": "stdout",
     "output_type": "stream",
     "text": [
      "value of x= 43\n",
      "value of y= 54\n",
      "97\n"
     ]
    }
   ],
   "source": [
    "add1(43,54)"
   ]
  },
  {
   "cell_type": "code",
   "execution_count": 32,
   "id": "354f89e5",
   "metadata": {},
   "outputs": [
    {
     "name": "stdout",
     "output_type": "stream",
     "text": [
      "value of x= 64\n",
      "value of y= 343\n",
      "407\n"
     ]
    }
   ],
   "source": [
    "add1(y=343,x=64)"
   ]
  },
  {
   "cell_type": "code",
   "execution_count": 33,
   "id": "e05c6e6c",
   "metadata": {},
   "outputs": [
    {
     "name": "stdout",
     "output_type": "stream",
     "text": [
      "value of x= Hello\n",
      "value of y= World\n",
      "HelloWorld\n"
     ]
    }
   ],
   "source": [
    "add1(y='World',x='Hello')"
   ]
  },
  {
   "cell_type": "code",
   "execution_count": 34,
   "id": "45d1afa9",
   "metadata": {},
   "outputs": [],
   "source": [
    "def myfun(*args):\n",
    "    for i in args:\n",
    "        print(i)\n",
    "    "
   ]
  },
  {
   "cell_type": "code",
   "execution_count": 35,
   "id": "4600a1ba",
   "metadata": {},
   "outputs": [
    {
     "name": "stdout",
     "output_type": "stream",
     "text": [
      "[43, 545, 6, 5, 756, 34, 4]\n"
     ]
    }
   ],
   "source": [
    "lst=[43,545,6,5,756,34,4]\n",
    "myfun(lst)"
   ]
  },
  {
   "cell_type": "code",
   "execution_count": 1,
   "id": "dabe2b21",
   "metadata": {},
   "outputs": [
    {
     "name": "stdout",
     "output_type": "stream",
     "text": [
      "Enter any string: ads lskd sdfwiezly\n",
      "3\n"
     ]
    }
   ],
   "source": [
    "a=input(\"Enter any string: \")\n",
    "count=0\n",
    "for i in a:\n",
    "    if i in \"aeiouAEIOU\":\n",
    "        count+=1\n",
    "print(count)"
   ]
  },
  {
   "cell_type": "code",
   "execution_count": 2,
   "id": "9785a7b0",
   "metadata": {},
   "outputs": [
    {
     "data": {
      "text/plain": [
       "22"
      ]
     },
     "execution_count": 2,
     "metadata": {},
     "output_type": "execute_result"
    }
   ],
   "source": [
    "pow(4,2)+6"
   ]
  },
  {
   "cell_type": "code",
   "execution_count": 3,
   "id": "ce86dbda",
   "metadata": {},
   "outputs": [],
   "source": [
    "def add2(x,y):\n",
    "    return x+y"
   ]
  },
  {
   "cell_type": "code",
   "execution_count": 4,
   "id": "fc2b4e0f",
   "metadata": {},
   "outputs": [
    {
     "data": {
      "text/plain": [
       "15"
      ]
     },
     "execution_count": 4,
     "metadata": {},
     "output_type": "execute_result"
    }
   ],
   "source": [
    "add2(4,5)+6"
   ]
  },
  {
   "cell_type": "code",
   "execution_count": 5,
   "id": "c2d86f3d",
   "metadata": {},
   "outputs": [
    {
     "name": "stdout",
     "output_type": "stream",
     "text": [
      "488\n"
     ]
    }
   ],
   "source": [
    "a=add2(434,54)\n",
    "b=43\n",
    "c=a+b\n",
    "print(a)"
   ]
  },
  {
   "cell_type": "code",
   "execution_count": null,
   "id": "77f7b387",
   "metadata": {},
   "outputs": [],
   "source": []
  }
 ],
 "metadata": {
  "kernelspec": {
   "display_name": "Python 3 (ipykernel)",
   "language": "python",
   "name": "python3"
  },
  "language_info": {
   "codemirror_mode": {
    "name": "ipython",
    "version": 3
   },
   "file_extension": ".py",
   "mimetype": "text/x-python",
   "name": "python",
   "nbconvert_exporter": "python",
   "pygments_lexer": "ipython3",
   "version": "3.9.18"
  }
 },
 "nbformat": 4,
 "nbformat_minor": 5
}
