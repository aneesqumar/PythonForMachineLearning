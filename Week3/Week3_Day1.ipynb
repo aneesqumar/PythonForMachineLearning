{
 "cells": [
  {
   "cell_type": "code",
   "execution_count": 6,
   "id": "c536b7b6",
   "metadata": {},
   "outputs": [
    {
     "name": "stdout",
     "output_type": "stream",
     "text": [
      "1\n",
      "2\n",
      "3\n",
      "4\n",
      "5\n",
      "6\n",
      "7\n"
     ]
    }
   ],
   "source": [
    "listOfDays=[1,2,3,4,5,6,7]\n",
    "for d in listOfDays:\n",
    "    print(d)"
   ]
  },
  {
   "cell_type": "code",
   "execution_count": 16,
   "id": "a9267d3f",
   "metadata": {},
   "outputs": [
    {
     "name": "stdout",
     "output_type": "stream",
     "text": [
      "1 4 9 16 25 36 49 "
     ]
    }
   ],
   "source": [
    "No=[1,2,3,4,5,6,7]\n",
    "for n in No:\n",
    "    print(n*n, end=\" \")"
   ]
  },
  {
   "cell_type": "code",
   "execution_count": 10,
   "id": "b669847b",
   "metadata": {},
   "outputs": [
    {
     "name": "stdout",
     "output_type": "stream",
     "text": [
      "B\n",
      "a\n",
      "g\n",
      "h\n"
     ]
    }
   ],
   "source": [
    "s=\"Bagh\"\n",
    "for c in s:\n",
    "    print(c)"
   ]
  },
  {
   "cell_type": "code",
   "execution_count": 14,
   "id": "676ee637",
   "metadata": {},
   "outputs": [
    {
     "name": "stdout",
     "output_type": "stream",
     "text": [
      "Enter Roll No6\n",
      "RollNo 6\n",
      "Name Ali\n",
      "Address Bagh\n"
     ]
    }
   ],
   "source": [
    "st=dict()\n",
    "st[\"RollNo\"]=input('Enter Roll No')\n",
    "st[\"Name\"]=\"Ali\"\n",
    "st[\"Address\"]=\"Bagh\"\n",
    "for i in st:\n",
    "    print(i,st[i])"
   ]
  },
  {
   "cell_type": "code",
   "execution_count": 13,
   "id": "e656172a",
   "metadata": {},
   "outputs": [
    {
     "name": "stdout",
     "output_type": "stream",
     "text": [
      "1\n",
      "3\n",
      "5\n",
      "7\n",
      "9\n"
     ]
    }
   ],
   "source": [
    "for i in range(1,10,2):\n",
    "    print(i)"
   ]
  },
  {
   "cell_type": "code",
   "execution_count": 15,
   "id": "b399c966",
   "metadata": {},
   "outputs": [
    {
     "name": "stdout",
     "output_type": "stream",
     "text": [
      "Enter Variable Namename\n",
      "Enter Roll No43\n",
      "RollNo 43\n",
      "name Ali\n",
      "Address Bagh\n"
     ]
    }
   ],
   "source": [
    "st=dict()\n",
    "varname=input(\"Enter Variable Name\")\n",
    "st[\"RollNo\"]=input('Enter Roll No')\n",
    "st[varname]=\"Ali\"\n",
    "st[\"Address\"]=\"Bagh\"\n",
    "for i in st:\n",
    "    print(i,st[i])"
   ]
  },
  {
   "cell_type": "code",
   "execution_count": 19,
   "id": "cf63c5fe",
   "metadata": {},
   "outputs": [
    {
     "name": "stdout",
     "output_type": "stream",
     "text": [
      "* \n",
      "* * \n",
      "* * * \n",
      "* * * * \n",
      "* * * * * \n",
      "* * * * * * \n"
     ]
    }
   ],
   "source": [
    "i=0\n",
    "while i<=5:\n",
    "    j=0\n",
    "    while j<=i:\n",
    "        print('*', end=\" \")\n",
    "        j+=1\n",
    "    i+=1\n",
    "    print()"
   ]
  },
  {
   "cell_type": "code",
   "execution_count": null,
   "id": "d66fac4b",
   "metadata": {},
   "outputs": [],
   "source": []
  }
 ],
 "metadata": {
  "kernelspec": {
   "display_name": "Python 3 (ipykernel)",
   "language": "python",
   "name": "python3"
  },
  "language_info": {
   "codemirror_mode": {
    "name": "ipython",
    "version": 3
   },
   "file_extension": ".py",
   "mimetype": "text/x-python",
   "name": "python",
   "nbconvert_exporter": "python",
   "pygments_lexer": "ipython3",
   "version": "3.9.18"
  }
 },
 "nbformat": 4,
 "nbformat_minor": 5
}
