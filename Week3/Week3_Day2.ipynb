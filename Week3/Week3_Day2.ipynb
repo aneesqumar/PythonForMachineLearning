{
 "cells": [
  {
   "cell_type": "code",
   "execution_count": 2,
   "id": "30737759",
   "metadata": {},
   "outputs": [
    {
     "name": "stdout",
     "output_type": "stream",
     "text": [
      "1 a\n",
      "1 b\n",
      "1 c\n",
      "2 a\n",
      "2 b\n",
      "2 c\n",
      "3 a\n",
      "3 b\n",
      "3 c\n"
     ]
    }
   ],
   "source": [
    "x=[1,2,3]\n",
    "y=[\"a\",\"b\",\"c\"]\n",
    "\n",
    "for i in x:\n",
    "    for c in y:\n",
    "        print(i,c)\n"
   ]
  },
  {
   "cell_type": "code",
   "execution_count": 4,
   "id": "133d6c16",
   "metadata": {},
   "outputs": [
    {
     "name": "stdout",
     "output_type": "stream",
     "text": [
      "* \n",
      "* * \n",
      "* * * \n",
      "* * * * \n",
      "* * * * * \n"
     ]
    }
   ],
   "source": [
    "i=1\n",
    "while i<=5:\n",
    "    j=1\n",
    "    while j<=i:\n",
    "        print(\"*\",end=\" \")\n",
    "        j+=1\n",
    "    print( )\n",
    "    i+=1"
   ]
  },
  {
   "cell_type": "code",
   "execution_count": 2,
   "id": "a460eb64",
   "metadata": {},
   "outputs": [
    {
     "name": "stdout",
     "output_type": "stream",
     "text": [
      "I am inside loop\n",
      "2\n",
      "I am inside loop\n"
     ]
    }
   ],
   "source": [
    "i=1\n",
    "while i<=5:\n",
    "    print('I am inside loop')\n",
    "    i+=1\n",
    "    if i==3:\n",
    "        break\n",
    "    print(i)\n"
   ]
  },
  {
   "cell_type": "code",
   "execution_count": 12,
   "id": "3e19b840",
   "metadata": {},
   "outputs": [],
   "source": [
    "def myfunction():\n",
    "    ip= input('Enter something to display')\n",
    "    print(ip)"
   ]
  },
  {
   "cell_type": "code",
   "execution_count": 13,
   "id": "cfb04c4b",
   "metadata": {},
   "outputs": [
    {
     "name": "stdout",
     "output_type": "stream",
     "text": [
      "this is main program\n",
      "Enter something to displaythis is something\n",
      "this is something\n",
      "This is again main program\n",
      "Enter something to displayhello world\n",
      "hello world\n"
     ]
    }
   ],
   "source": [
    "print(\"this is main program\")\n",
    "myfunction()\n",
    "print(\"This is again main program\")\n",
    "myfunction()"
   ]
  },
  {
   "cell_type": "code",
   "execution_count": null,
   "id": "480b10e2",
   "metadata": {},
   "outputs": [],
   "source": []
  }
 ],
 "metadata": {
  "kernelspec": {
   "display_name": "Python 3 (ipykernel)",
   "language": "python",
   "name": "python3"
  },
  "language_info": {
   "codemirror_mode": {
    "name": "ipython",
    "version": 3
   },
   "file_extension": ".py",
   "mimetype": "text/x-python",
   "name": "python",
   "nbconvert_exporter": "python",
   "pygments_lexer": "ipython3",
   "version": "3.9.18"
  }
 },
 "nbformat": 4,
 "nbformat_minor": 5
}
