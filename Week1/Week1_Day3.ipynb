{
 "cells": [
  {
   "cell_type": "code",
   "execution_count": 10,
   "id": "731d7d2b",
   "metadata": {},
   "outputs": [
    {
     "name": "stdout",
     "output_type": "stream",
     "text": [
      "The sum of1.5and6.3is7.8\n",
      "The sum of 1.5 and 6.3 is 7.8\n"
     ]
    }
   ],
   "source": [
    "#Task-II: Add Two Numbers\n",
    "# This program adds two numbers\n",
    "num1 = 1.5\n",
    "num2 = 6.3\n",
    "# Add two numbers\n",
    "sum = num1 + num2\n",
    "# Display the sum\n",
    "#print('The sum of {0} and {1} is {2}'.format(num1, num2, sum))\n",
    "\n",
    "#print('The sum of'+num1+'and'+num2+'is'+sum)\n",
    "\n",
    "print('The sum of'+str(num1)+'and'+str(num2)+'is'+str(sum))\n",
    "print('The sum of',num1,'and',num2,'is',sum)\n",
    "\n",
    "#print('the sum of num1 and num2 is sum')"
   ]
  },
  {
   "cell_type": "code",
   "execution_count": 14,
   "id": "4f9f0b8d",
   "metadata": {},
   "outputs": [
    {
     "name": "stdout",
     "output_type": "stream",
     "text": [
      "Enter first number: 7689\n",
      "Enter second number: 9875\n",
      "The sum of 7689 and 9875 is= 17564\n"
     ]
    }
   ],
   "source": [
    "# Store input numbers\n",
    "num1 = input('Enter first number: ')\n",
    "num2 = input('Enter second number: ')\n",
    "# Add two numbers\n",
    "sum = int(num1) + int(num2)\n",
    "# Display the sum\n",
    "print('The sum of', num1, 'and',num2, 'is=',sum)"
   ]
  },
  {
   "cell_type": "code",
   "execution_count": null,
   "id": "e70964f0",
   "metadata": {},
   "outputs": [],
   "source": []
  },
  {
   "cell_type": "code",
   "execution_count": null,
   "id": "c694f848",
   "metadata": {},
   "outputs": [],
   "source": []
  }
 ],
 "metadata": {
  "kernelspec": {
   "display_name": "Python 3 (ipykernel)",
   "language": "python",
   "name": "python3"
  },
  "language_info": {
   "codemirror_mode": {
    "name": "ipython",
    "version": 3
   },
   "file_extension": ".py",
   "mimetype": "text/x-python",
   "name": "python",
   "nbconvert_exporter": "python",
   "pygments_lexer": "ipython3",
   "version": "3.9.18"
  }
 },
 "nbformat": 4,
 "nbformat_minor": 5
}
