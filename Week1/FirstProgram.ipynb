{
 "cells": [
  {
   "cell_type": "markdown",
   "id": "7d85323c",
   "metadata": {},
   "source": [
    "5+5"
   ]
  },
  {
   "cell_type": "markdown",
   "id": "49a204ff",
   "metadata": {},
   "source": [
    "# Heading 1\n",
    "This is my first code and tjhis is my heading at level 1\n",
    "## Heading2\n",
    "Heading at level2\n",
    "### Heading3 \n",
    "Heading at Level3"
   ]
  },
  {
   "cell_type": "code",
   "execution_count": 4,
   "id": "2c4f69f2",
   "metadata": {},
   "outputs": [
    {
     "name": "stdout",
     "output_type": "stream",
     "text": [
      "Hello World!\n"
     ]
    }
   ],
   "source": [
    "print('Hello World!')"
   ]
  },
  {
   "cell_type": "code",
   "execution_count": 6,
   "id": "4fd4ab2c",
   "metadata": {},
   "outputs": [
    {
     "name": "stdout",
     "output_type": "stream",
     "text": [
      "lIne 1\n",
      "lIne2\n",
      "Hello\n"
     ]
    }
   ],
   "source": [
    "print('lIne 1')\n",
    "print('lIne2')\n",
    "print (\"Hello\")"
   ]
  },
  {
   "cell_type": "code",
   "execution_count": null,
   "id": "c2225760",
   "metadata": {},
   "outputs": [],
   "source": []
  }
 ],
 "metadata": {
  "kernelspec": {
   "display_name": "Python 3 (ipykernel)",
   "language": "python",
   "name": "python3"
  },
  "language_info": {
   "codemirror_mode": {
    "name": "ipython",
    "version": 3
   },
   "file_extension": ".py",
   "mimetype": "text/x-python",
   "name": "python",
   "nbconvert_exporter": "python",
   "pygments_lexer": "ipython3",
   "version": "3.9.7"
  }
 },
 "nbformat": 4,
 "nbformat_minor": 5
}
