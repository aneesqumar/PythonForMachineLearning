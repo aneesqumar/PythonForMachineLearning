{
 "cells": [
  {
   "cell_type": "code",
   "execution_count": 1,
   "id": "0d21f780",
   "metadata": {},
   "outputs": [
    {
     "name": "stdout",
     "output_type": "stream",
     "text": [
      "Intel MKL WARNING: Support of Intel(R) Streaming SIMD Extensions 4.2 (Intel(R) SSE4.2) enabled only processors has been deprecated. Intel oneAPI Math Kernel Library 2025.0 will require Intel(R) Advanced Vector Extensions (Intel(R) AVX) instructions.\n",
      "Intel MKL WARNING: Support of Intel(R) Streaming SIMD Extensions 4.2 (Intel(R) SSE4.2) enabled only processors has been deprecated. Intel oneAPI Math Kernel Library 2025.0 will require Intel(R) Advanced Vector Extensions (Intel(R) AVX) instructions.\n"
     ]
    }
   ],
   "source": [
    "import pandas as pd"
   ]
  },
  {
   "cell_type": "code",
   "execution_count": 2,
   "id": "d72322c6",
   "metadata": {},
   "outputs": [],
   "source": [
    "students= {\n",
    "    'Names': [\"Ali\",\"Ahmed\",\"Uzma\"],\n",
    "    'RollNo': [3,9,1]\n",
    "}\n"
   ]
  },
  {
   "cell_type": "code",
   "execution_count": 3,
   "id": "ab426732",
   "metadata": {},
   "outputs": [
    {
     "name": "stdout",
     "output_type": "stream",
     "text": [
      "   Names  RollNo\n",
      "0    Ali       3\n",
      "1  Ahmed       9\n",
      "2   Uzma       1\n"
     ]
    }
   ],
   "source": [
    "df=pd.DataFrame(students)\n",
    "print(df)"
   ]
  },
  {
   "cell_type": "code",
   "execution_count": 4,
   "id": "1ee2b7d4",
   "metadata": {},
   "outputs": [
    {
     "name": "stdout",
     "output_type": "stream",
     "text": [
      "0       Monday\n",
      "1      Tuesday\n",
      "2    Wednesday\n",
      "3     Thursday\n",
      "dtype: object\n"
     ]
    }
   ],
   "source": [
    "l1=[\"Monday\",\"Tuesday\",\"Wednesday\",\"Thursday\"]\n",
    "days=pd.Series(l1)\n",
    "print(days)"
   ]
  },
  {
   "cell_type": "code",
   "execution_count": 5,
   "id": "aa175fa0",
   "metadata": {},
   "outputs": [
    {
     "data": {
      "text/plain": [
       "'Wednesday'"
      ]
     },
     "execution_count": 5,
     "metadata": {},
     "output_type": "execute_result"
    }
   ],
   "source": [
    "days[2]"
   ]
  },
  {
   "cell_type": "code",
   "execution_count": 6,
   "id": "aaaad9de",
   "metadata": {},
   "outputs": [
    {
     "name": "stdout",
     "output_type": "stream",
     "text": [
      "Monday       1\n",
      "Tuesday      2\n",
      "Wednesday    3\n",
      "Thursday     4\n",
      "dtype: int64\n"
     ]
    }
   ],
   "source": [
    "no=[1,2,3,4]\n",
    "s1=pd.Series(no,index=l1)\n",
    "print(s1)"
   ]
  },
  {
   "cell_type": "code",
   "execution_count": 7,
   "id": "af1a2ae6",
   "metadata": {},
   "outputs": [
    {
     "data": {
      "text/plain": [
       "3"
      ]
     },
     "execution_count": 7,
     "metadata": {},
     "output_type": "execute_result"
    }
   ],
   "source": [
    "s1[\"Wednesday\"]"
   ]
  },
  {
   "cell_type": "code",
   "execution_count": 10,
   "id": "26cd18b6",
   "metadata": {},
   "outputs": [
    {
     "data": {
      "text/plain": [
       "1      Tuesday\n",
       "2    Wednesday\n",
       "dtype: object"
      ]
     },
     "execution_count": 10,
     "metadata": {},
     "output_type": "execute_result"
    }
   ],
   "source": [
    "days[1:3]"
   ]
  },
  {
   "cell_type": "code",
   "execution_count": 11,
   "id": "2e9a518d",
   "metadata": {},
   "outputs": [],
   "source": [
    "students= {\n",
    "    'Names': [\"Ali\",\"Ahmed\",\"Uzma\",\"Hamza\"],\n",
    "    'RollNo': [3,9,1,5],\n",
    "    'Age': [30,25,26,31]\n",
    "}\n",
    "df_students=pd.DataFrame(students)\n"
   ]
  },
  {
   "cell_type": "code",
   "execution_count": 12,
   "id": "bb0f2f66",
   "metadata": {},
   "outputs": [
    {
     "name": "stdout",
     "output_type": "stream",
     "text": [
      "   Names  RollNo  Age\n",
      "0    Ali       3   30\n",
      "1  Ahmed       9   25\n",
      "2   Uzma       1   26\n",
      "3  Hamza       5   31\n"
     ]
    }
   ],
   "source": [
    "print(df_students)"
   ]
  },
  {
   "cell_type": "code",
   "execution_count": 13,
   "id": "c2c4b1e0",
   "metadata": {},
   "outputs": [
    {
     "name": "stdout",
     "output_type": "stream",
     "text": [
      "Names     Uzma\n",
      "RollNo       1\n",
      "Age         26\n",
      "Name: 2, dtype: object\n"
     ]
    }
   ],
   "source": [
    "print(df_students.loc[2])"
   ]
  },
  {
   "cell_type": "code",
   "execution_count": 15,
   "id": "0012869d",
   "metadata": {},
   "outputs": [
    {
     "name": "stdout",
     "output_type": "stream",
     "text": [
      "  Names  RollNo  Age\n",
      "0   Ali       3   30\n",
      "2  Uzma       1   26\n"
     ]
    }
   ],
   "source": [
    "print(df_students.loc[[0,2]])"
   ]
  },
  {
   "cell_type": "code",
   "execution_count": 17,
   "id": "1bcb5984",
   "metadata": {},
   "outputs": [
    {
     "name": "stdout",
     "output_type": "stream",
     "text": [
      "        Names  RollNo  Age\n",
      "RegNo1    Ali       3   30\n",
      "RegNo2  Ahmed       9   25\n",
      "RegNo3   Uzma       1   26\n",
      "RegNo4  Hamza       5   31\n"
     ]
    }
   ],
   "source": [
    "ind=[\"RegNo1\",\"RegNo2\",\"RegNo3\",\"RegNo4\"]\n",
    "df_students1=pd.DataFrame(students,index=ind)\n",
    "print(df_students1)"
   ]
  },
  {
   "cell_type": "code",
   "execution_count": 19,
   "id": "09721241",
   "metadata": {},
   "outputs": [
    {
     "data": {
      "text/plain": [
       "Names     Ali\n",
       "RollNo      3\n",
       "Age        30\n",
       "Name: RegNo1, dtype: object"
      ]
     },
     "execution_count": 19,
     "metadata": {},
     "output_type": "execute_result"
    }
   ],
   "source": [
    "df_students1.loc[\"RegNo1\"]"
   ]
  },
  {
   "cell_type": "code",
   "execution_count": 20,
   "id": "17473203",
   "metadata": {},
   "outputs": [
    {
     "name": "stdout",
     "output_type": "stream",
     "text": [
      "RegNo1    3\n",
      "RegNo2    9\n",
      "RegNo3    1\n",
      "RegNo4    5\n",
      "Name: RollNo, dtype: int64\n"
     ]
    }
   ],
   "source": [
    "rno=pd.Series(df_students1[\"RollNo\"])\n",
    "print(rno)"
   ]
  },
  {
   "cell_type": "code",
   "execution_count": 21,
   "id": "d46deae7",
   "metadata": {},
   "outputs": [
    {
     "name": "stdout",
     "output_type": "stream",
     "text": [
      "RegNo1      Ali\n",
      "RegNo2    Ahmed\n",
      "RegNo3     Uzma\n",
      "RegNo4    Hamza\n",
      "Name: Names, dtype: object\n"
     ]
    }
   ],
   "source": [
    "print(df_students1[\"Names\"])"
   ]
  },
  {
   "cell_type": "code",
   "execution_count": null,
   "id": "579d6d0a",
   "metadata": {},
   "outputs": [],
   "source": []
  }
 ],
 "metadata": {
  "kernelspec": {
   "display_name": "Python 3 (ipykernel)",
   "language": "python",
   "name": "python3"
  },
  "language_info": {
   "codemirror_mode": {
    "name": "ipython",
    "version": 3
   },
   "file_extension": ".py",
   "mimetype": "text/x-python",
   "name": "python",
   "nbconvert_exporter": "python",
   "pygments_lexer": "ipython3",
   "version": "3.9.18"
  }
 },
 "nbformat": 4,
 "nbformat_minor": 5
}
