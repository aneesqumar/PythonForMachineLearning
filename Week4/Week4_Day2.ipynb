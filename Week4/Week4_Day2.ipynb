{
 "cells": [
  {
   "cell_type": "code",
   "execution_count": 1,
   "id": "e0521538",
   "metadata": {},
   "outputs": [
    {
     "name": "stdout",
     "output_type": "stream",
     "text": [
      "Intel MKL WARNING: Support of Intel(R) Streaming SIMD Extensions 4.2 (Intel(R) SSE4.2) enabled only processors has been deprecated. Intel oneAPI Math Kernel Library 2025.0 will require Intel(R) Advanced Vector Extensions (Intel(R) AVX) instructions.\n",
      "Intel MKL WARNING: Support of Intel(R) Streaming SIMD Extensions 4.2 (Intel(R) SSE4.2) enabled only processors has been deprecated. Intel oneAPI Math Kernel Library 2025.0 will require Intel(R) Advanced Vector Extensions (Intel(R) AVX) instructions.\n"
     ]
    }
   ],
   "source": [
    "import numpy as np"
   ]
  },
  {
   "cell_type": "code",
   "execution_count": 2,
   "id": "14687eb0",
   "metadata": {},
   "outputs": [
    {
     "name": "stdout",
     "output_type": "stream",
     "text": [
      "Requirement already satisfied: numpy in /opt/anaconda3/envs/venv_wuajk/lib/python3.9/site-packages (1.23.5)\n",
      "Note: you may need to restart the kernel to use updated packages.\n"
     ]
    }
   ],
   "source": [
    "pip install numpy"
   ]
  },
  {
   "cell_type": "code",
   "execution_count": 3,
   "id": "ab32403a",
   "metadata": {},
   "outputs": [],
   "source": [
    "a=np.array([34,545,65,23,65,756])"
   ]
  },
  {
   "cell_type": "code",
   "execution_count": 4,
   "id": "f57cec04",
   "metadata": {},
   "outputs": [
    {
     "name": "stdout",
     "output_type": "stream",
     "text": [
      "[ 34 545  65  23  65 756]\n"
     ]
    }
   ],
   "source": [
    "print(a)"
   ]
  },
  {
   "cell_type": "code",
   "execution_count": 5,
   "id": "be702a3a",
   "metadata": {},
   "outputs": [
    {
     "name": "stdout",
     "output_type": "stream",
     "text": [
      "1\n"
     ]
    }
   ],
   "source": [
    "print(a.ndim)"
   ]
  },
  {
   "cell_type": "code",
   "execution_count": 6,
   "id": "ccf49520",
   "metadata": {},
   "outputs": [],
   "source": [
    "arr_2d=np.array([[34,65,76,3],[5,8,3,6]])"
   ]
  },
  {
   "cell_type": "code",
   "execution_count": 7,
   "id": "82d33dce",
   "metadata": {},
   "outputs": [
    {
     "name": "stdout",
     "output_type": "stream",
     "text": [
      "[[34 65 76  3]\n",
      " [ 5  8  3  6]]\n"
     ]
    }
   ],
   "source": [
    "print(arr_2d)"
   ]
  },
  {
   "cell_type": "code",
   "execution_count": 8,
   "id": "d98a5599",
   "metadata": {},
   "outputs": [
    {
     "name": "stdout",
     "output_type": "stream",
     "text": [
      "2\n"
     ]
    }
   ],
   "source": [
    "print(arr_2d.ndim)"
   ]
  },
  {
   "cell_type": "code",
   "execution_count": 9,
   "id": "d2b8f068",
   "metadata": {},
   "outputs": [
    {
     "data": {
      "text/plain": [
       "(6,)"
      ]
     },
     "execution_count": 9,
     "metadata": {},
     "output_type": "execute_result"
    }
   ],
   "source": [
    "a.shape"
   ]
  },
  {
   "cell_type": "code",
   "execution_count": 10,
   "id": "5906ddd2",
   "metadata": {},
   "outputs": [
    {
     "data": {
      "text/plain": [
       "(2, 4)"
      ]
     },
     "execution_count": 10,
     "metadata": {},
     "output_type": "execute_result"
    }
   ],
   "source": [
    "arr_2d.shape"
   ]
  },
  {
   "cell_type": "code",
   "execution_count": 11,
   "id": "1684297a",
   "metadata": {},
   "outputs": [
    {
     "data": {
      "text/plain": [
       "8"
      ]
     },
     "execution_count": 11,
     "metadata": {},
     "output_type": "execute_result"
    }
   ],
   "source": [
    "arr_2d.size"
   ]
  },
  {
   "cell_type": "code",
   "execution_count": 12,
   "id": "9145070b",
   "metadata": {},
   "outputs": [
    {
     "data": {
      "text/plain": [
       "numpy.ndarray"
      ]
     },
     "execution_count": 12,
     "metadata": {},
     "output_type": "execute_result"
    }
   ],
   "source": [
    "type(arr_2d)"
   ]
  },
  {
   "cell_type": "code",
   "execution_count": 13,
   "id": "417a8ddc",
   "metadata": {},
   "outputs": [
    {
     "data": {
      "text/plain": [
       "str"
      ]
     },
     "execution_count": 13,
     "metadata": {},
     "output_type": "execute_result"
    }
   ],
   "source": [
    "x=\"abc\"\n",
    "type(x)"
   ]
  },
  {
   "cell_type": "code",
   "execution_count": 14,
   "id": "8ef2e53b",
   "metadata": {},
   "outputs": [
    {
     "data": {
      "text/plain": [
       "dtype('int64')"
      ]
     },
     "execution_count": 14,
     "metadata": {},
     "output_type": "execute_result"
    }
   ],
   "source": [
    "arr_2d.dtype"
   ]
  },
  {
   "cell_type": "code",
   "execution_count": 15,
   "id": "4bde6cca",
   "metadata": {},
   "outputs": [
    {
     "name": "stdout",
     "output_type": "stream",
     "text": [
      "[[[  1   4   6]\n",
      "  [  5   9   5]]\n",
      "\n",
      " [[ 65   9   2]\n",
      "  [  2 895   6]]]\n"
     ]
    }
   ],
   "source": [
    "arr_3d=np.array([[[1,4,6],[5,9,5]],[[65,9,2],[2,895,6]]])\n",
    "print(arr_3d)"
   ]
  },
  {
   "cell_type": "code",
   "execution_count": 16,
   "id": "0a0385da",
   "metadata": {},
   "outputs": [
    {
     "data": {
      "text/plain": [
       "3"
      ]
     },
     "execution_count": 16,
     "metadata": {},
     "output_type": "execute_result"
    }
   ],
   "source": [
    "arr_3d.ndim"
   ]
  },
  {
   "cell_type": "code",
   "execution_count": 17,
   "id": "db4953d1",
   "metadata": {},
   "outputs": [
    {
     "data": {
      "text/plain": [
       "(2, 2, 3)"
      ]
     },
     "execution_count": 17,
     "metadata": {},
     "output_type": "execute_result"
    }
   ],
   "source": [
    "arr_3d.shape"
   ]
  },
  {
   "cell_type": "code",
   "execution_count": 23,
   "id": "05a6b479",
   "metadata": {},
   "outputs": [
    {
     "name": "stdout",
     "output_type": "stream",
     "text": [
      "65\n",
      "65\n"
     ]
    }
   ],
   "source": [
    "a=np.array([34,545,65,23,65,756])\n",
    "print(a[4])\n",
    "print(a[-2])"
   ]
  },
  {
   "cell_type": "code",
   "execution_count": 24,
   "id": "14b3a5d3",
   "metadata": {},
   "outputs": [],
   "source": [
    "arr_2d=np.array([[34,65,76,3],[5,8,3,6]])"
   ]
  },
  {
   "cell_type": "code",
   "execution_count": 26,
   "id": "c609008a",
   "metadata": {},
   "outputs": [
    {
     "name": "stdout",
     "output_type": "stream",
     "text": [
      "[[34 65 76  3]\n",
      " [ 5  8  3  6]]\n",
      "8\n"
     ]
    }
   ],
   "source": [
    "print(arr_2d)\n",
    "print(arr_2d[1,1])"
   ]
  },
  {
   "cell_type": "code",
   "execution_count": 27,
   "id": "5f8371b2",
   "metadata": {},
   "outputs": [
    {
     "name": "stdout",
     "output_type": "stream",
     "text": [
      "[[[  1   4   6]\n",
      "  [  5   9   5]]\n",
      "\n",
      " [[ 65   9   2]\n",
      "  [  2 895   6]]]\n"
     ]
    }
   ],
   "source": [
    "arr_3d=np.array([[[1,4,6],[5,9,5]],[[65,9,2],[2,895,6]]])\n",
    "print(arr_3d)"
   ]
  },
  {
   "cell_type": "code",
   "execution_count": 28,
   "id": "0baa68aa",
   "metadata": {},
   "outputs": [
    {
     "name": "stdout",
     "output_type": "stream",
     "text": [
      "2\n"
     ]
    }
   ],
   "source": [
    "print(arr_3d[1,0,2])"
   ]
  },
  {
   "cell_type": "code",
   "execution_count": 29,
   "id": "e55bcd35",
   "metadata": {},
   "outputs": [
    {
     "name": "stdout",
     "output_type": "stream",
     "text": [
      "68\n"
     ]
    }
   ],
   "source": [
    "print(arr_2d[1,2]+arr_2d[0,1])"
   ]
  },
  {
   "cell_type": "code",
   "execution_count": 30,
   "id": "6fd56b4a",
   "metadata": {},
   "outputs": [
    {
     "name": "stdout",
     "output_type": "stream",
     "text": [
      "[545  65  23]\n"
     ]
    }
   ],
   "source": [
    "print(a[1:4])"
   ]
  },
  {
   "cell_type": "code",
   "execution_count": 31,
   "id": "c0d45440",
   "metadata": {},
   "outputs": [
    {
     "name": "stdout",
     "output_type": "stream",
     "text": [
      "[545  65  23  65 756   4  54]\n",
      "[545  23 756  54]\n"
     ]
    }
   ],
   "source": [
    "a=np.array([34,545,65,23,65,756,4,54,65,7,45])\n",
    "print(a[1:8:1])\n",
    "print(a[1:8:2])"
   ]
  },
  {
   "cell_type": "code",
   "execution_count": 32,
   "id": "e8250a00",
   "metadata": {},
   "outputs": [
    {
     "name": "stdout",
     "output_type": "stream",
     "text": [
      "[ 34 545  65  23  65 756   4  54  65   7  45]\n"
     ]
    }
   ],
   "source": [
    "print(a[:])"
   ]
  },
  {
   "cell_type": "code",
   "execution_count": 33,
   "id": "95cf1de7",
   "metadata": {},
   "outputs": [
    {
     "name": "stdout",
     "output_type": "stream",
     "text": [
      "[ 23  65 756   4  54  65   7  45]\n"
     ]
    }
   ],
   "source": [
    "print(a[3:])"
   ]
  },
  {
   "cell_type": "code",
   "execution_count": 35,
   "id": "dad3defd",
   "metadata": {},
   "outputs": [
    {
     "name": "stdout",
     "output_type": "stream",
     "text": [
      "[ 34 545  65  23  65]\n"
     ]
    }
   ],
   "source": [
    "print(a[:5])"
   ]
  },
  {
   "cell_type": "code",
   "execution_count": 36,
   "id": "09eb557f",
   "metadata": {},
   "outputs": [],
   "source": [
    "b=a[:5]"
   ]
  },
  {
   "cell_type": "code",
   "execution_count": 37,
   "id": "09e5576a",
   "metadata": {},
   "outputs": [
    {
     "name": "stdout",
     "output_type": "stream",
     "text": [
      "[ 34 545  65  23  65]\n"
     ]
    }
   ],
   "source": [
    "print(b)"
   ]
  },
  {
   "cell_type": "code",
   "execution_count": 38,
   "id": "48f72f9f",
   "metadata": {},
   "outputs": [
    {
     "name": "stdout",
     "output_type": "stream",
     "text": [
      "[[34 65 76  3]\n",
      " [ 5  8  3  6]\n",
      " [35 58 23 76]]\n"
     ]
    }
   ],
   "source": [
    "arr_2d=np.array([[34,65,76,3],[5,8,3,6],[35,58,23,76]])\n",
    "print(arr_2d)"
   ]
  },
  {
   "cell_type": "code",
   "execution_count": 39,
   "id": "0f53ab0a",
   "metadata": {},
   "outputs": [
    {
     "name": "stdout",
     "output_type": "stream",
     "text": [
      "[[34 65]\n",
      " [ 5  8]\n",
      " [35 58]]\n"
     ]
    }
   ],
   "source": [
    "print(arr_2d[:,0:2])"
   ]
  },
  {
   "cell_type": "code",
   "execution_count": 40,
   "id": "aafd76e4",
   "metadata": {},
   "outputs": [
    {
     "name": "stdout",
     "output_type": "stream",
     "text": [
      "[35 58]\n"
     ]
    }
   ],
   "source": [
    "print(arr_2d[2,0:2])"
   ]
  },
  {
   "cell_type": "code",
   "execution_count": 41,
   "id": "4b68c4e2",
   "metadata": {},
   "outputs": [
    {
     "name": "stdout",
     "output_type": "stream",
     "text": [
      "[35 58 23 76]\n"
     ]
    }
   ],
   "source": [
    "print(arr_2d[2,:])"
   ]
  },
  {
   "cell_type": "code",
   "execution_count": 44,
   "id": "372bfbc9",
   "metadata": {},
   "outputs": [
    {
     "data": {
      "text/plain": [
       "numpy.ndarray"
      ]
     },
     "execution_count": 44,
     "metadata": {},
     "output_type": "execute_result"
    }
   ],
   "source": [
    "nm=np.array([\"ali\",\"uzma\",\"farhan\"],dtype='S')\n",
    "type(nm)"
   ]
  },
  {
   "cell_type": "code",
   "execution_count": 45,
   "id": "04769b1b",
   "metadata": {},
   "outputs": [
    {
     "name": "stdout",
     "output_type": "stream",
     "text": [
      "|S6\n"
     ]
    }
   ],
   "source": [
    "print(nm.dtype)"
   ]
  },
  {
   "cell_type": "code",
   "execution_count": 47,
   "id": "61057ac4",
   "metadata": {},
   "outputs": [
    {
     "name": "stdout",
     "output_type": "stream",
     "text": [
      "|S3\n"
     ]
    }
   ],
   "source": [
    "nm=np.array([34,534,54],dtype='S')\n",
    "print(nm.dtype)\n"
   ]
  },
  {
   "cell_type": "code",
   "execution_count": 48,
   "id": "e2bc6fc0",
   "metadata": {},
   "outputs": [
    {
     "name": "stdout",
     "output_type": "stream",
     "text": [
      "[b'34' b'534' b'54']\n"
     ]
    }
   ],
   "source": [
    "print(nm)"
   ]
  },
  {
   "cell_type": "code",
   "execution_count": 49,
   "id": "59377f82",
   "metadata": {},
   "outputs": [],
   "source": [
    "arr=nm.astype(int)"
   ]
  },
  {
   "cell_type": "code",
   "execution_count": 50,
   "id": "d85118a3",
   "metadata": {},
   "outputs": [
    {
     "name": "stdout",
     "output_type": "stream",
     "text": [
      "[ 34 534  54]\n"
     ]
    }
   ],
   "source": [
    "print(arr)"
   ]
  },
  {
   "cell_type": "code",
   "execution_count": 52,
   "id": "aae70c4d",
   "metadata": {},
   "outputs": [
    {
     "name": "stdout",
     "output_type": "stream",
     "text": [
      "[ True  True False  True False  True]\n"
     ]
    }
   ],
   "source": [
    "arr1=np.array([43,-765,0,34,0,43])\n",
    "newarr=arr1.astype(bool)\n",
    "print(newarr)"
   ]
  },
  {
   "cell_type": "code",
   "execution_count": 55,
   "id": "febc695d",
   "metadata": {},
   "outputs": [
    {
     "name": "stdout",
     "output_type": "stream",
     "text": [
      "[ 90 151   9]\n"
     ]
    }
   ],
   "source": [
    "a1=np.array([43,54,7])\n",
    "a2=np.array([47,97,2])\n",
    "a3=a1+a2\n",
    "print(a3)"
   ]
  },
  {
   "cell_type": "code",
   "execution_count": null,
   "id": "b6d6af58",
   "metadata": {},
   "outputs": [],
   "source": []
  }
 ],
 "metadata": {
  "kernelspec": {
   "display_name": "Python 3 (ipykernel)",
   "language": "python",
   "name": "python3"
  },
  "language_info": {
   "codemirror_mode": {
    "name": "ipython",
    "version": 3
   },
   "file_extension": ".py",
   "mimetype": "text/x-python",
   "name": "python",
   "nbconvert_exporter": "python",
   "pygments_lexer": "ipython3",
   "version": "3.9.18"
  }
 },
 "nbformat": 4,
 "nbformat_minor": 5
}
