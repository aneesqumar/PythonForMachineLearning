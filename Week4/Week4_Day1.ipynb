{
 "cells": [
  {
   "cell_type": "code",
   "execution_count": 8,
   "id": "e99f5b2a",
   "metadata": {},
   "outputs": [],
   "source": [
    "marks={\n",
    "    \"Math\":70,\n",
    "    \"English\":73,\n",
    "    \"Computer\":84\n",
    "}"
   ]
  },
  {
   "cell_type": "code",
   "execution_count": 2,
   "id": "08dd1f0c",
   "metadata": {},
   "outputs": [
    {
     "name": "stdout",
     "output_type": "stream",
     "text": [
      "{'Math': 70, 'English': 73, 'Computer': 84}\n"
     ]
    }
   ],
   "source": [
    "print(marks)"
   ]
  },
  {
   "cell_type": "code",
   "execution_count": 3,
   "id": "43e97948",
   "metadata": {},
   "outputs": [
    {
     "name": "stdout",
     "output_type": "stream",
     "text": [
      "73\n"
     ]
    }
   ],
   "source": [
    "print(marks[\"English\"])"
   ]
  },
  {
   "cell_type": "code",
   "execution_count": 4,
   "id": "5407c44c",
   "metadata": {},
   "outputs": [
    {
     "name": "stdout",
     "output_type": "stream",
     "text": [
      "{'Math': 70, 'English': 73, 'Computer': 84, 'Physics': 67}\n"
     ]
    }
   ],
   "source": [
    "marks[\"Physics\"]=67\n",
    "print(marks)"
   ]
  },
  {
   "cell_type": "code",
   "execution_count": 5,
   "id": "bded7d6b",
   "metadata": {},
   "outputs": [],
   "source": [
    "del marks[\"English\"]"
   ]
  },
  {
   "cell_type": "code",
   "execution_count": 6,
   "id": "b9839817",
   "metadata": {},
   "outputs": [
    {
     "name": "stdout",
     "output_type": "stream",
     "text": [
      "{'Math': 70, 'Computer': 84, 'Physics': 67}\n"
     ]
    }
   ],
   "source": [
    "print(marks)"
   ]
  },
  {
   "cell_type": "code",
   "execution_count": 7,
   "id": "66bdcdb0",
   "metadata": {},
   "outputs": [
    {
     "name": "stdout",
     "output_type": "stream",
     "text": [
      "{}\n"
     ]
    }
   ],
   "source": [
    "marks.clear()\n",
    "print(marks)"
   ]
  },
  {
   "cell_type": "code",
   "execution_count": 12,
   "id": "75b4ac1b",
   "metadata": {},
   "outputs": [
    {
     "name": "stdout",
     "output_type": "stream",
     "text": [
      "Enter Subject Name:Physics\n",
      "Enter Marks of Physics72\n",
      "{'Math': 70, 'English': 73, 'Computer': 84, 'Physics': '72'}\n"
     ]
    }
   ],
   "source": [
    "sub=input('Enter Subject Name:')\n",
    "m=input('Enter Marks of '+sub)\n",
    "marks[sub]=m\n",
    "print(marks)"
   ]
  },
  {
   "cell_type": "code",
   "execution_count": 13,
   "id": "d07fb402",
   "metadata": {},
   "outputs": [
    {
     "name": "stdout",
     "output_type": "stream",
     "text": [
      "84\n"
     ]
    }
   ],
   "source": [
    "print(marks[\"Computer\"])"
   ]
  },
  {
   "cell_type": "code",
   "execution_count": 14,
   "id": "cc66a8dc",
   "metadata": {},
   "outputs": [
    {
     "name": "stdout",
     "output_type": "stream",
     "text": [
      "Math\n",
      "English\n",
      "Computer\n",
      "Physics\n"
     ]
    }
   ],
   "source": [
    "for i in marks:\n",
    "    print(i)"
   ]
  },
  {
   "cell_type": "code",
   "execution_count": 15,
   "id": "25bfead4",
   "metadata": {},
   "outputs": [
    {
     "name": "stdout",
     "output_type": "stream",
     "text": [
      "70\n",
      "73\n",
      "84\n",
      "72\n"
     ]
    }
   ],
   "source": [
    "for i in marks:\n",
    "    print(marks[i])"
   ]
  },
  {
   "cell_type": "code",
   "execution_count": 17,
   "id": "acf870c9",
   "metadata": {},
   "outputs": [
    {
     "name": "stdout",
     "output_type": "stream",
     "text": [
      "Enter name of the subject:English\n",
      "Enter marks in English43\n",
      "Enter name of the subject:Math\n",
      "Enter marks in Math64\n",
      "Enter name of the subject:Physics\n",
      "Enter marks in Physics76\n",
      "Enter name of the subject:COmputer\n",
      "Enter marks in COmputer89\n",
      "{'English': 43, 'Math': 64, 'Physics': 76, 'COmputer': 89}\n"
     ]
    }
   ],
   "source": [
    "s1=input('Enter name of the subject:')\n",
    "m1=input('Enter marks in '+s1)\n",
    "s2=input('Enter name of the subject:')\n",
    "m2=input('Enter marks in '+s2)\n",
    "s3=input('Enter name of the subject:')\n",
    "m3=input('Enter marks in '+s3)\n",
    "s4=input('Enter name of the subject:')\n",
    "m4=input('Enter marks in '+s4)\n",
    "marks={}\n",
    "marks[s1]=int(m1)\n",
    "marks[s2]=int(m2)\n",
    "marks[s3]=int(m3)\n",
    "marks[s4]=int(m4)\n",
    "\n",
    "print(marks)"
   ]
  },
  {
   "cell_type": "code",
   "execution_count": 18,
   "id": "ca298e67",
   "metadata": {},
   "outputs": [
    {
     "name": "stdout",
     "output_type": "stream",
     "text": [
      "Obtained Marks= 272\n",
      "Percentange= 68.0\n"
     ]
    }
   ],
   "source": [
    "total_o=0\n",
    "for i in marks:\n",
    "   total_o=total_o+marks[i] \n",
    "per=(total_o/400)*100\n",
    "print('Obtained Marks=',total_o)\n",
    "print('Percentange=',per)"
   ]
  },
  {
   "cell_type": "code",
   "execution_count": 29,
   "id": "fe04f96f",
   "metadata": {},
   "outputs": [
    {
     "name": "stdout",
     "output_type": "stream",
     "text": [
      "Enter First No:7667\n",
      "Enter Second No:jhgh\n"
     ]
    },
    {
     "ename": "ValueError",
     "evalue": "invalid literal for int() with base 10: 'jhgh'",
     "output_type": "error",
     "traceback": [
      "\u001b[0;31m---------------------------------------------------------------------------\u001b[0m",
      "\u001b[0;31mValueError\u001b[0m                                Traceback (most recent call last)",
      "Cell \u001b[0;32mIn[29], line 3\u001b[0m\n\u001b[1;32m      1\u001b[0m \u001b[38;5;28;01mtry\u001b[39;00m:\n\u001b[1;32m      2\u001b[0m     n1\u001b[38;5;241m=\u001b[39m\u001b[38;5;28mint\u001b[39m(\u001b[38;5;28minput\u001b[39m(\u001b[38;5;124m'\u001b[39m\u001b[38;5;124mEnter First No:\u001b[39m\u001b[38;5;124m'\u001b[39m))\n\u001b[0;32m----> 3\u001b[0m     n2\u001b[38;5;241m=\u001b[39m\u001b[38;5;28;43mint\u001b[39;49m\u001b[43m(\u001b[49m\u001b[38;5;28;43minput\u001b[39;49m\u001b[43m(\u001b[49m\u001b[38;5;124;43m'\u001b[39;49m\u001b[38;5;124;43mEnter Second No:\u001b[39;49m\u001b[38;5;124;43m'\u001b[39;49m\u001b[43m)\u001b[49m\u001b[43m)\u001b[49m\n\u001b[1;32m      4\u001b[0m     r\u001b[38;5;241m=\u001b[39mn1\u001b[38;5;241m/\u001b[39mn2\n\u001b[1;32m      5\u001b[0m     \u001b[38;5;28mprint\u001b[39m(r)\n",
      "\u001b[0;31mValueError\u001b[0m: invalid literal for int() with base 10: 'jhgh'"
     ]
    }
   ],
   "source": [
    "try:\n",
    "    n1=int(input('Enter First No:'))\n",
    "    n2=int(input('Enter Second No:'))\n",
    "    r=n1/n2\n",
    "    print(r)\n",
    "except ZeroDivisionError:\n",
    "    print(\"Division by Zero is not defined\")\n",
    "except:\n",
    "    print('Some Error Occurred')"
   ]
  },
  {
   "cell_type": "code",
   "execution_count": 32,
   "id": "0332826b",
   "metadata": {},
   "outputs": [
    {
     "name": "stdout",
     "output_type": "stream",
     "text": [
      "The returned dictionary is: {'0': 1, '1': 2, '2': 5}\n"
     ]
    }
   ],
   "source": [
    "def create_dictionary():\n",
    "    dc={'0':1,\n",
    "       '1':2,\n",
    "       '2':5}\n",
    "    return dc\n",
    "counts = create_dictionary()\n",
    "print('The returned dictionary is:',counts)"
   ]
  },
  {
   "cell_type": "code",
   "execution_count": null,
   "id": "b91afd58",
   "metadata": {},
   "outputs": [],
   "source": []
  }
 ],
 "metadata": {
  "kernelspec": {
   "display_name": "Python 3 (ipykernel)",
   "language": "python",
   "name": "python3"
  },
  "language_info": {
   "codemirror_mode": {
    "name": "ipython",
    "version": 3
   },
   "file_extension": ".py",
   "mimetype": "text/x-python",
   "name": "python",
   "nbconvert_exporter": "python",
   "pygments_lexer": "ipython3",
   "version": "3.9.18"
  }
 },
 "nbformat": 4,
 "nbformat_minor": 5
}
