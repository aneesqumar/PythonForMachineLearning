{
 "cells": [
  {
   "cell_type": "code",
   "execution_count": 2,
   "id": "5944eebb",
   "metadata": {},
   "outputs": [
    {
     "name": "stdout",
     "output_type": "stream",
     "text": [
      "Intel MKL WARNING: Support of Intel(R) Streaming SIMD Extensions 4.2 (Intel(R) SSE4.2) enabled only processors has been deprecated. Intel oneAPI Math Kernel Library 2025.0 will require Intel(R) Advanced Vector Extensions (Intel(R) AVX) instructions.\n",
      "Intel MKL WARNING: Support of Intel(R) Streaming SIMD Extensions 4.2 (Intel(R) SSE4.2) enabled only processors has been deprecated. Intel oneAPI Math Kernel Library 2025.0 will require Intel(R) Advanced Vector Extensions (Intel(R) AVX) instructions.\n"
     ]
    }
   ],
   "source": [
    "import numpy as np"
   ]
  },
  {
   "cell_type": "code",
   "execution_count": 10,
   "id": "ac9905db",
   "metadata": {},
   "outputs": [],
   "source": [
    "ar1=np.array([[4,6],[1,2]])\n",
    "ar2=np.array([[2,3],[7,5]])\n",
    "ar3=ar1*ar2"
   ]
  },
  {
   "cell_type": "code",
   "execution_count": 11,
   "id": "44126043",
   "metadata": {},
   "outputs": [
    {
     "name": "stdout",
     "output_type": "stream",
     "text": [
      "[[4 6]\n",
      " [1 2]]\n",
      "[[2 3]\n",
      " [7 5]]\n",
      "[[ 8 18]\n",
      " [ 7 10]]\n"
     ]
    }
   ],
   "source": [
    "print(ar1)\n",
    "print(ar2)\n",
    "print(ar3)"
   ]
  },
  {
   "cell_type": "code",
   "execution_count": 12,
   "id": "06349259",
   "metadata": {},
   "outputs": [
    {
     "name": "stdout",
     "output_type": "stream",
     "text": [
      "[[50 42]\n",
      " [16 13]]\n"
     ]
    }
   ],
   "source": [
    "ar4=np.matmul(ar1,ar2)\n",
    "print(ar4)"
   ]
  },
  {
   "cell_type": "code",
   "execution_count": 15,
   "id": "d15d90cb",
   "metadata": {},
   "outputs": [
    {
     "name": "stdout",
     "output_type": "stream",
     "text": [
      "[[0.1675863  0.77117236 0.88828073 0.64580183 0.12692248]\n",
      " [0.24814237 0.51519129 0.06102084 0.7546006  0.56583568]\n",
      " [0.71531652 0.16600447 0.15083629 0.07008369 0.73095605]\n",
      " [0.97986596 0.21246682 0.60221045 0.84619866 0.36899073]]\n"
     ]
    }
   ],
   "source": [
    "ar5=np.random.random((4,5))\n",
    "print(ar5)"
   ]
  },
  {
   "cell_type": "code",
   "execution_count": 16,
   "id": "a67b1d27",
   "metadata": {},
   "outputs": [],
   "source": [
    "temp = np.random.randint(1,20, 10)"
   ]
  },
  {
   "cell_type": "code",
   "execution_count": 17,
   "id": "3b5949eb",
   "metadata": {},
   "outputs": [
    {
     "name": "stdout",
     "output_type": "stream",
     "text": [
      "[ 9  3  5 12  2  7 12  8 19 18]\n"
     ]
    }
   ],
   "source": [
    "print(temp)"
   ]
  },
  {
   "cell_type": "code",
   "execution_count": 20,
   "id": "ee568484",
   "metadata": {},
   "outputs": [
    {
     "name": "stdout",
     "output_type": "stream",
     "text": [
      "[ 2  3  5  7  8  9 12 12 18 19]\n"
     ]
    }
   ],
   "source": [
    "print(np.sort(temp))"
   ]
  },
  {
   "cell_type": "code",
   "execution_count": 21,
   "id": "17671762",
   "metadata": {},
   "outputs": [],
   "source": [
    "temp = np.random.randint(1,20, 10)"
   ]
  },
  {
   "cell_type": "code",
   "execution_count": 22,
   "id": "8980599c",
   "metadata": {},
   "outputs": [
    {
     "data": {
      "text/plain": [
       "array([12,  4, 15, 11,  9, 10, 19, 11,  3,  2])"
      ]
     },
     "execution_count": 22,
     "metadata": {},
     "output_type": "execute_result"
    }
   ],
   "source": [
    "temp"
   ]
  },
  {
   "cell_type": "code",
   "execution_count": 27,
   "id": "295b3140",
   "metadata": {},
   "outputs": [
    {
     "data": {
      "text/plain": [
       "array([ 2,  3, 11, 19, 10,  9, 11, 15,  4, 12])"
      ]
     },
     "execution_count": 27,
     "metadata": {},
     "output_type": "execute_result"
    }
   ],
   "source": [
    "np.flip(temp)"
   ]
  },
  {
   "cell_type": "code",
   "execution_count": 29,
   "id": "84199cc8",
   "metadata": {},
   "outputs": [
    {
     "name": "stdout",
     "output_type": "stream",
     "text": [
      "[12  4 15 11  9 10 19 11  3  2]\n"
     ]
    }
   ],
   "source": [
    "print(temp.T)"
   ]
  },
  {
   "cell_type": "code",
   "execution_count": 30,
   "id": "67dcf167",
   "metadata": {},
   "outputs": [
    {
     "name": "stdout",
     "output_type": "stream",
     "text": [
      "[[4 6]\n",
      " [1 2]]\n",
      "[[4 1]\n",
      " [6 2]]\n"
     ]
    }
   ],
   "source": [
    "ar1=np.array([[4,6],[1,2]])\n",
    "ar2=np.array([[2,3],[7,5]])\n",
    "print(ar1)\n",
    "print(ar1.T)"
   ]
  },
  {
   "cell_type": "code",
   "execution_count": 31,
   "id": "49b51429",
   "metadata": {},
   "outputs": [
    {
     "name": "stdout",
     "output_type": "stream",
     "text": [
      "(array([2]),)\n"
     ]
    }
   ],
   "source": [
    "print(np.where(temp==15))"
   ]
  },
  {
   "cell_type": "code",
   "execution_count": 32,
   "id": "9b6b2651",
   "metadata": {},
   "outputs": [
    {
     "name": "stdout",
     "output_type": "stream",
     "text": [
      "(array([0, 1, 5, 9]),)\n"
     ]
    }
   ],
   "source": [
    "print(np.where(temp%2==0))"
   ]
  },
  {
   "cell_type": "code",
   "execution_count": 33,
   "id": "4886ba6c",
   "metadata": {},
   "outputs": [
    {
     "name": "stdout",
     "output_type": "stream",
     "text": [
      "[144  16 225 121  81 100 361 121   9   4]\n"
     ]
    }
   ],
   "source": [
    "print(np.square(temp))"
   ]
  },
  {
   "cell_type": "code",
   "execution_count": 34,
   "id": "8b07d03b",
   "metadata": {},
   "outputs": [
    {
     "data": {
      "text/plain": [
       "10"
      ]
     },
     "execution_count": 34,
     "metadata": {},
     "output_type": "execute_result"
    }
   ],
   "source": [
    "temp.size"
   ]
  },
  {
   "cell_type": "code",
   "execution_count": 36,
   "id": "de8664bc",
   "metadata": {},
   "outputs": [
    {
     "data": {
      "text/plain": [
       "(10,)"
      ]
     },
     "execution_count": 36,
     "metadata": {},
     "output_type": "execute_result"
    }
   ],
   "source": [
    "temp.shape"
   ]
  },
  {
   "cell_type": "code",
   "execution_count": 39,
   "id": "8da455b6",
   "metadata": {},
   "outputs": [
    {
     "name": "stdout",
     "output_type": "stream",
     "text": [
      "902.25\n"
     ]
    }
   ],
   "source": [
    "y=[10,13,6,76,34,6,87,65]\n",
    "y=np.array(y)\n",
    "y_pred=[15,21,9,43,5,76,70,64]\n",
    "y_prd=np.array(y_pred)\n",
    "n=y.size\n",
    "error=1/n*np.sum(np.square(y_pred-y))\n",
    "print(error)"
   ]
  },
  {
   "cell_type": "code",
   "execution_count": 40,
   "id": "7096f82c",
   "metadata": {},
   "outputs": [
    {
     "name": "stdout",
     "output_type": "stream",
     "text": [
      "31.70345998467675\n"
     ]
    }
   ],
   "source": [
    "print(np.std(y))"
   ]
  },
  {
   "cell_type": "code",
   "execution_count": 42,
   "id": "7ad101d8",
   "metadata": {},
   "outputs": [
    {
     "data": {
      "text/plain": [
       "37.125"
      ]
     },
     "execution_count": 42,
     "metadata": {},
     "output_type": "execute_result"
    }
   ],
   "source": [
    "np.mean(y)"
   ]
  },
  {
   "cell_type": "code",
   "execution_count": 43,
   "id": "b672caad",
   "metadata": {},
   "outputs": [],
   "source": [
    "def CalculateMean(x):\n",
    "    m=sum(x)/x.size\n",
    "    return m"
   ]
  },
  {
   "cell_type": "code",
   "execution_count": 46,
   "id": "e10ed695",
   "metadata": {},
   "outputs": [],
   "source": [
    "def CalculateStd(x):\n",
    "    std=np.sqrt(np.sum((x-CalculateMean(x))**2)/x.size)\n",
    "    return std"
   ]
  },
  {
   "cell_type": "code",
   "execution_count": 47,
   "id": "1326e7a3",
   "metadata": {},
   "outputs": [
    {
     "data": {
      "text/plain": [
       "31.70345998467675"
      ]
     },
     "execution_count": 47,
     "metadata": {},
     "output_type": "execute_result"
    }
   ],
   "source": [
    "CalculateStd(y)"
   ]
  },
  {
   "cell_type": "code",
   "execution_count": null,
   "id": "d003dae6",
   "metadata": {},
   "outputs": [],
   "source": []
  }
 ],
 "metadata": {
  "kernelspec": {
   "display_name": "Python 3 (ipykernel)",
   "language": "python",
   "name": "python3"
  },
  "language_info": {
   "codemirror_mode": {
    "name": "ipython",
    "version": 3
   },
   "file_extension": ".py",
   "mimetype": "text/x-python",
   "name": "python",
   "nbconvert_exporter": "python",
   "pygments_lexer": "ipython3",
   "version": "3.9.18"
  }
 },
 "nbformat": 4,
 "nbformat_minor": 5
}
