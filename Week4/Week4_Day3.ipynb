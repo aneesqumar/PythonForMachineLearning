{
 "cells": [
  {
   "cell_type": "code",
   "execution_count": 1,
   "id": "5621fce1",
   "metadata": {},
   "outputs": [
    {
     "name": "stdout",
     "output_type": "stream",
     "text": [
      "Intel MKL WARNING: Support of Intel(R) Streaming SIMD Extensions 4.2 (Intel(R) SSE4.2) enabled only processors has been deprecated. Intel oneAPI Math Kernel Library 2025.0 will require Intel(R) Advanced Vector Extensions (Intel(R) AVX) instructions.\n",
      "Intel MKL WARNING: Support of Intel(R) Streaming SIMD Extensions 4.2 (Intel(R) SSE4.2) enabled only processors has been deprecated. Intel oneAPI Math Kernel Library 2025.0 will require Intel(R) Advanced Vector Extensions (Intel(R) AVX) instructions.\n"
     ]
    }
   ],
   "source": [
    "import numpy as np"
   ]
  },
  {
   "cell_type": "code",
   "execution_count": 2,
   "id": "ea80a4f0",
   "metadata": {},
   "outputs": [
    {
     "name": "stdout",
     "output_type": "stream",
     "text": [
      "[[0. 0. 0.]\n",
      " [0. 0. 0.]]\n"
     ]
    }
   ],
   "source": [
    "a=np.zeros((2,3))\n",
    "print(a)"
   ]
  },
  {
   "cell_type": "code",
   "execution_count": 4,
   "id": "770d2a6a",
   "metadata": {},
   "outputs": [
    {
     "name": "stdout",
     "output_type": "stream",
     "text": [
      "[[1. 1. 1. 1. 1.]\n",
      " [1. 1. 1. 1. 1.]\n",
      " [1. 1. 1. 1. 1.]\n",
      " [1. 1. 1. 1. 1.]]\n"
     ]
    }
   ],
   "source": [
    "a=np.ones((4,5))\n",
    "print(a)"
   ]
  },
  {
   "cell_type": "code",
   "execution_count": 12,
   "id": "f353dade",
   "metadata": {},
   "outputs": [
    {
     "name": "stdout",
     "output_type": "stream",
     "text": [
      "[[1. 1. 7. 1. 1.]\n",
      " [1. 1. 1. 1. 1.]\n",
      " [1. 1. 1. 1. 1.]\n",
      " [1. 1. 1. 1. 1.]]\n"
     ]
    }
   ],
   "source": [
    "a[0,2]=7\n",
    "print(a)"
   ]
  },
  {
   "cell_type": "code",
   "execution_count": 5,
   "id": "86dd8d96",
   "metadata": {},
   "outputs": [
    {
     "name": "stdout",
     "output_type": "stream",
     "text": [
      "[[5 5 5 5]\n",
      " [5 5 5 5]\n",
      " [5 5 5 5]]\n"
     ]
    }
   ],
   "source": [
    "b=np.full((3,4),5)\n",
    "print(b)"
   ]
  },
  {
   "cell_type": "code",
   "execution_count": 6,
   "id": "f92ec309",
   "metadata": {},
   "outputs": [
    {
     "name": "stdout",
     "output_type": "stream",
     "text": [
      "[[5.+0.j 5.+0.j 5.+0.j 5.+0.j]\n",
      " [5.+0.j 5.+0.j 5.+0.j 5.+0.j]\n",
      " [5.+0.j 5.+0.j 5.+0.j 5.+0.j]]\n"
     ]
    }
   ],
   "source": [
    "c=np.full((3,4),5,dtype='complex')\n",
    "print(c)"
   ]
  },
  {
   "cell_type": "code",
   "execution_count": 11,
   "id": "e5fc94ed",
   "metadata": {},
   "outputs": [
    {
     "name": "stdout",
     "output_type": "stream",
     "text": [
      "[[0.34564443 0.08144553 0.0503902  0.16608061 0.77422463 0.42409045]\n",
      " [0.94640769 0.90177174 0.11373066 0.35391649 0.92765197 0.19571455]\n",
      " [0.26453677 0.8752853  0.03897944 0.41655264 0.86903782 0.83499322]\n",
      " [0.3659398  0.68925691 0.0965893  0.45434247 0.83551082 0.3272306 ]]\n"
     ]
    }
   ],
   "source": [
    "d=np.random.random((4,6))\n",
    "print(d)"
   ]
  },
  {
   "cell_type": "code",
   "execution_count": 18,
   "id": "f5d45457",
   "metadata": {},
   "outputs": [
    {
     "name": "stdout",
     "output_type": "stream",
     "text": [
      "[[0. 0. 0. 0. 0.]]\n"
     ]
    }
   ],
   "source": [
    "x=np.zeros((1,5))\n",
    "print(x)"
   ]
  },
  {
   "cell_type": "code",
   "execution_count": 17,
   "id": "c956a4c8",
   "metadata": {},
   "outputs": [
    {
     "name": "stdout",
     "output_type": "stream",
     "text": [
      "[[ 54.  67. 546.  13.  76.]]\n"
     ]
    }
   ],
   "source": [
    "x[0,1]=67\n",
    "x[0,0]=54\n",
    "x[0,2]=546\n",
    "x[0,3]=13\n",
    "x[0,4]=76\n",
    "print(x)"
   ]
  },
  {
   "cell_type": "code",
   "execution_count": 20,
   "id": "64adf282",
   "metadata": {},
   "outputs": [
    {
     "name": "stdout",
     "output_type": "stream",
     "text": [
      "Enter any value:76\n",
      "Enter any value:34\n",
      "Enter any value:98\n",
      "Enter any value:231\n",
      "Enter any value:876\n",
      "[[ 76.  34.  98. 231. 876.]]\n"
     ]
    }
   ],
   "source": [
    "i=0\n",
    "while i<5:\n",
    "    x[0,i] =input('Enter any value:')\n",
    "    i=i+1\n",
    "print(x)"
   ]
  },
  {
   "cell_type": "code",
   "execution_count": 21,
   "id": "b947d70f",
   "metadata": {},
   "outputs": [
    {
     "name": "stdout",
     "output_type": "stream",
     "text": [
      "[[0. 0. 0.]\n",
      " [0. 0. 0.]\n",
      " [0. 0. 0.]\n",
      " [0. 0. 0.]]\n"
     ]
    }
   ],
   "source": [
    "y=np.zeros((4,3))\n",
    "print(y)"
   ]
  },
  {
   "cell_type": "code",
   "execution_count": 25,
   "id": "c89d3595",
   "metadata": {},
   "outputs": [
    {
     "name": "stdout",
     "output_type": "stream",
     "text": [
      "[[3 6 3]\n",
      " [4 5 8]]\n",
      "[[ 6 12  6]\n",
      " [ 8 10 16]]\n"
     ]
    }
   ],
   "source": [
    "x=np.array([[3,6,3],[4,5,8]])\n",
    "print(x)\n",
    "z=x*2\n",
    "print(z)"
   ]
  },
  {
   "cell_type": "code",
   "execution_count": 28,
   "id": "4dad1edb",
   "metadata": {},
   "outputs": [
    {
     "name": "stdout",
     "output_type": "stream",
     "text": [
      "[[43  6  4  2]\n",
      " [ 5  7 24 22]]\n",
      "[[ 3  2  5 27]\n",
      " [ 5 16 14  5]]\n",
      "[[46  8  9 29]\n",
      " [10 23 38 27]]\n"
     ]
    }
   ],
   "source": [
    "ar1=np.array([[43,6,4,2],[5,7,24,22]])\n",
    "ar2=np.array([[3,2,5,27],[5,16,14,5]])\n",
    "ar3=ar1+ar2\n",
    "print(ar1)\n",
    "print(ar2)\n",
    "print(ar3)"
   ]
  },
  {
   "cell_type": "code",
   "execution_count": 24,
   "id": "a67fa542",
   "metadata": {},
   "outputs": [
    {
     "name": "stdout",
     "output_type": "stream",
     "text": [
      "[[129  12  20  54]\n",
      " [ 25 112 336 264]]\n"
     ]
    }
   ],
   "source": [
    "ar4=ar1*ar2\n",
    "print(ar4)"
   ]
  },
  {
   "cell_type": "code",
   "execution_count": 30,
   "id": "46610026",
   "metadata": {},
   "outputs": [
    {
     "name": "stdout",
     "output_type": "stream",
     "text": [
      "12\n"
     ]
    }
   ],
   "source": [
    "print(ar4.min())"
   ]
  },
  {
   "cell_type": "code",
   "execution_count": 31,
   "id": "e22db12a",
   "metadata": {},
   "outputs": [
    {
     "name": "stdout",
     "output_type": "stream",
     "text": [
      "336\n"
     ]
    }
   ],
   "source": [
    "print(ar4.max())"
   ]
  },
  {
   "cell_type": "code",
   "execution_count": 32,
   "id": "580bb26a",
   "metadata": {},
   "outputs": [
    {
     "name": "stdout",
     "output_type": "stream",
     "text": [
      "952\n"
     ]
    }
   ],
   "source": [
    "print(ar4.sum())"
   ]
  },
  {
   "cell_type": "code",
   "execution_count": 33,
   "id": "e04f0479",
   "metadata": {},
   "outputs": [
    {
     "data": {
      "text/plain": [
       "array([25, 12, 20, 54])"
      ]
     },
     "execution_count": 33,
     "metadata": {},
     "output_type": "execute_result"
    }
   ],
   "source": [
    "ar4.min(axis=0)"
   ]
  },
  {
   "cell_type": "code",
   "execution_count": 34,
   "id": "3bdb0602",
   "metadata": {},
   "outputs": [
    {
     "data": {
      "text/plain": [
       "array([12, 25])"
      ]
     },
     "execution_count": 34,
     "metadata": {},
     "output_type": "execute_result"
    }
   ],
   "source": [
    "ar4.min(axis=1)"
   ]
  },
  {
   "cell_type": "code",
   "execution_count": 35,
   "id": "cb3bcdab",
   "metadata": {},
   "outputs": [
    {
     "data": {
      "text/plain": [
       "array([215, 737])"
      ]
     },
     "execution_count": 35,
     "metadata": {},
     "output_type": "execute_result"
    }
   ],
   "source": [
    "ar4.sum(axis=1)"
   ]
  },
  {
   "cell_type": "code",
   "execution_count": 36,
   "id": "887a2084",
   "metadata": {},
   "outputs": [],
   "source": [
    "ar5=np.array([5,4,6,6,2,4,5,6,1,3,3,6])"
   ]
  },
  {
   "cell_type": "code",
   "execution_count": 37,
   "id": "e969e163",
   "metadata": {},
   "outputs": [
    {
     "data": {
      "text/plain": [
       "array([1, 2, 3, 4, 5, 6])"
      ]
     },
     "execution_count": 37,
     "metadata": {},
     "output_type": "execute_result"
    }
   ],
   "source": [
    "np.unique(ar5)"
   ]
  },
  {
   "cell_type": "code",
   "execution_count": 38,
   "id": "b4e48b93",
   "metadata": {},
   "outputs": [
    {
     "name": "stdout",
     "output_type": "stream",
     "text": [
      "[1 2 3 4 5 6] [8 4 9 1 0 2]\n"
     ]
    }
   ],
   "source": [
    "v,i=np.unique(ar5,return_index=True)\n",
    "print(v,i)"
   ]
  },
  {
   "cell_type": "code",
   "execution_count": 44,
   "id": "f68bbb32",
   "metadata": {},
   "outputs": [
    {
     "name": "stdout",
     "output_type": "stream",
     "text": [
      "[1 2 3 4 5 6] [8 4 9 1 0 2] [1 1 2 2 2 4]\n"
     ]
    }
   ],
   "source": [
    "v,i,c=np.unique(ar5,return_index=True,return_counts=True)\n",
    "print(v,i,c)"
   ]
  },
  {
   "cell_type": "code",
   "execution_count": null,
   "id": "6547423b",
   "metadata": {},
   "outputs": [],
   "source": []
  }
 ],
 "metadata": {
  "kernelspec": {
   "display_name": "Python 3 (ipykernel)",
   "language": "python",
   "name": "python3"
  },
  "language_info": {
   "codemirror_mode": {
    "name": "ipython",
    "version": 3
   },
   "file_extension": ".py",
   "mimetype": "text/x-python",
   "name": "python",
   "nbconvert_exporter": "python",
   "pygments_lexer": "ipython3",
   "version": "3.9.18"
  }
 },
 "nbformat": 4,
 "nbformat_minor": 5
}
